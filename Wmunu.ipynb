{
 "cells": [
  {
   "cell_type": "code",
   "execution_count": 2,
   "id": "140b9859-671a-40bd-ab2c-835d2677d6b5",
   "metadata": {},
   "outputs": [],
   "source": [
    "import os\n",
    "import uproot\n",
    "import vector\n",
    "import awkward as ak\n",
    "import matplotlib.pylab as plt\n",
    "import numpy as np\n",
    "import pandas as pd\n",
    "\n",
    "vector.register_awkward()"
   ]
  },
  {
   "cell_type": "markdown",
   "id": "a0510127-9f64-414b-9a56-090c307c60d4",
   "metadata": {},
   "source": [
    "Let's look at this dataset: [SingleMuon primary dataset in NANOAOD format from RunH of 2016](https://opendata.cern.ch/record/30563)\n",
    "\n",
    "[Variable list](https://opendata.cern.ch/eos/opendata/cms/dataset-semantics/NanoAOD/30563/SingleMuon_doc.html)"
   ]
  },
  {
   "cell_type": "code",
   "execution_count": 3,
   "id": "c9d4a03f-c1d3-4a99-b4b7-e440185dee91",
   "metadata": {},
   "outputs": [],
   "source": [
    "datafile_name = '576759DA-4A35-534B-B926-2A9E4A5A7268.root'\n",
    "\n",
    "if not (os.path.isfile(datafile_name)): \n",
    "    ! curl -O http://opendata.cern.ch//eos/opendata/cms/Run2016H/SingleMuon/NANOAOD/UL2016_MiniAODv2_NanoAODv9-v1/1210000/576759DA-4A35-534B-B926-2A9E4A5A7268.root\n"
   ]
  },
  {
   "cell_type": "code",
   "execution_count": 4,
   "id": "fbde41f3-772a-4bd9-a46a-ce095993cfdf",
   "metadata": {},
   "outputs": [],
   "source": [
    "infile = uproot.open(datafile_name)"
   ]
  },
  {
   "cell_type": "code",
   "execution_count": 5,
   "id": "f8dea857-c1c2-4693-8037-96d553f3b7bf",
   "metadata": {},
   "outputs": [
    {
     "data": {
      "text/plain": [
       "56141"
      ]
     },
     "execution_count": 5,
     "metadata": {},
     "output_type": "execute_result"
    }
   ],
   "source": [
    "events = infile['Events']\n",
    "\n",
    "df = events.arrays(\n",
    "    filter_name=\"/(run|event|luminosityBlock|Muon_|nMuon|MET_|Electron_|nElectron)/\", \n",
    "    library='ak'\n",
    ") \n",
    "\n",
    "len(df)"
   ]
  },
  {
   "cell_type": "code",
   "execution_count": 6,
   "id": "bbb4ffb7-dc64-49a5-9983-dcd74a9d31d6",
   "metadata": {},
   "outputs": [
    {
     "data": {
      "text/html": [
       "<pre>[{run: 283830, luminosityBlock: 15, event: 27910912, nElectron: 0, ...},\n",
       " {run: 283830, luminosityBlock: 15, event: 27861269, nElectron: 0, ...},\n",
       " {run: 283830, luminosityBlock: 15, event: 28246124, nElectron: 0, ...},\n",
       " {run: 283830, luminosityBlock: 15, event: 28112385, nElectron: 0, ...},\n",
       " {run: 283830, luminosityBlock: 15, event: 27809878, nElectron: 0, ...},\n",
       " {run: 283830, luminosityBlock: 15, event: 28832584, nElectron: 0, ...},\n",
       " {run: 283830, luminosityBlock: 15, event: 27837912, nElectron: 1, ...},\n",
       " {run: 283830, luminosityBlock: 15, event: 27953541, nElectron: 0, ...},\n",
       " {run: 283830, luminosityBlock: 15, event: 28112391, nElectron: 0, ...},\n",
       " {run: 283830, luminosityBlock: 15, event: 28011942, nElectron: 0, ...},\n",
       " ...,\n",
       " {run: 283830, luminosityBlock: 108, event: 204018268, nElectron: 0, ...},\n",
       " {run: 283830, luminosityBlock: 108, event: 203059925, nElectron: 0, ...},\n",
       " {run: 283830, luminosityBlock: 108, event: 202527314, nElectron: 0, ...},\n",
       " {run: 283830, luminosityBlock: 108, event: 203556906, nElectron: 0, ...},\n",
       " {run: 283830, luminosityBlock: 108, event: 202477680, nElectron: 0, ...},\n",
       " {run: 283830, luminosityBlock: 108, event: 202573451, nElectron: 0, ...},\n",
       " {run: 283830, luminosityBlock: 108, event: 204094187, nElectron: 0, ...},\n",
       " {run: 283830, luminosityBlock: 108, event: 202990430, nElectron: 0, ...},\n",
       " {run: 283830, luminosityBlock: 108, event: 203418500, nElectron: 0, ...}]\n",
       "--------------------------------------------------------------------------\n",
       "type: 56141 * {\n",
       "    run: uint32,\n",
       "    luminosityBlock: uint32,\n",
       "    event: uint64,\n",
       "    nElectron: uint32,\n",
       "    Electron_dEscaleDown: var * float32,\n",
       "    Electron_dEscaleUp: var * float32,\n",
       "    Electron_dEsigmaDown: var * float32,\n",
       "    Electron_dEsigmaUp: var * float32,\n",
       "    Electron_deltaEtaSC: var * float32,\n",
       "    Electron_dr03EcalRecHitSumEt: var * float32,\n",
       "    Electron_dr03HcalDepth1TowerSumEt: var * float32,\n",
       "    Electron_dr03TkSumPt: var * float32,\n",
       "    Electron_dr03TkSumPtHEEP: var * float32,\n",
       "    Electron_dxy: var * float32,\n",
       "    Electron_dxyErr: var * float32,\n",
       "    Electron_dz: var * float32,\n",
       "    Electron_dzErr: var * float32,\n",
       "    Electron_eCorr: var * float32,\n",
       "    Electron_eInvMinusPInv: var * float32,\n",
       "    Electron_energyErr: var * float32,\n",
       "    Electron_eta: var * float32,\n",
       "    Electron_hoe: var * float32,\n",
       "    Electron_ip3d: var * float32,\n",
       "    Electron_jetPtRelv2: var * float32,\n",
       "    Electron_jetRelIso: var * float32,\n",
       "    Electron_mass: var * float32,\n",
       "    Electron_miniPFRelIso_all: var * float32,\n",
       "    Electron_miniPFRelIso_chg: var * float32,\n",
       "    Electron_mvaFall17V2Iso: var * float32,\n",
       "    Electron_mvaFall17V2noIso: var * float32,\n",
       "    Electron_pfRelIso03_all: var * float32,\n",
       "    Electron_pfRelIso03_chg: var * float32,\n",
       "    Electron_phi: var * float32,\n",
       "    Electron_pt: var * float32,\n",
       "    Electron_r9: var * float32,\n",
       "    Electron_scEtOverPt: var * float32,\n",
       "    Electron_sieie: var * float32,\n",
       "    Electron_sip3d: var * float32,\n",
       "    Electron_mvaTTH: var * float32,\n",
       "    Electron_charge: var * int32,\n",
       "    Electron_cutBased: var * int32,\n",
       "    Electron_jetIdx: var * int32,\n",
       "    Electron_pdgId: var * int32,\n",
       "    Electron_photonIdx: var * int32,\n",
       "    Electron_tightCharge: var * int32,\n",
       "    Electron_vidNestedWPBitmap: var * int32,\n",
       "    Electron_vidNestedWPBitmapHEEP: var * int32,\n",
       "    Electron_convVeto: var * bool,\n",
       "    Electron_cutBased_HEEP: var * bool,\n",
       "    Electron_isPFcand: var * bool,\n",
       "    Electron_jetNDauCharged: var * uint8,\n",
       "    Electron_lostHits: var * uint8,\n",
       "    Electron_mvaFall17V2Iso_WP80: var * bool,\n",
       "    Electron_mvaFall17V2Iso_WP90: var * bool,\n",
       "    Electron_mvaFall17V2Iso_WPL: var * bool,\n",
       "    Electron_mvaFall17V2noIso_WP80: var * bool,\n",
       "    Electron_mvaFall17V2noIso_WP90: var * bool,\n",
       "    Electron_mvaFall17V2noIso_WPL: var * bool,\n",
       "    Electron_seedGain: var * uint8,\n",
       "    MET_MetUnclustEnUpDeltaX: float32,\n",
       "    MET_MetUnclustEnUpDeltaY: float32,\n",
       "    MET_covXX: float32,\n",
       "    MET_covXY: float32,\n",
       "    MET_covYY: float32,\n",
       "    MET_phi: float32,\n",
       "    MET_pt: float32,\n",
       "    MET_significance: float32,\n",
       "    MET_sumEt: float32,\n",
       "    MET_sumPtUnclustered: float32,\n",
       "    nMuon: uint32,\n",
       "    Muon_dxy: var * float32,\n",
       "    Muon_dxyErr: var * float32,\n",
       "    Muon_dxybs: var * float32,\n",
       "    Muon_dz: var * float32,\n",
       "    Muon_dzErr: var * float32,\n",
       "    Muon_eta: var * float32,\n",
       "    Muon_ip3d: var * float32,\n",
       "    Muon_jetPtRelv2: var * float32,\n",
       "    Muon_jetRelIso: var * float32,\n",
       "    Muon_mass: var * float32,\n",
       "    Muon_miniPFRelIso_all: var * float32,\n",
       "    Muon_miniPFRelIso_chg: var * float32,\n",
       "    Muon_pfRelIso03_all: var * float32,\n",
       "    Muon_pfRelIso03_chg: var * float32,\n",
       "    Muon_pfRelIso04_all: var * float32,\n",
       "    Muon_phi: var * float32,\n",
       "    Muon_pt: var * float32,\n",
       "    Muon_ptErr: var * float32,\n",
       "    Muon_segmentComp: var * float32,\n",
       "    Muon_sip3d: var * float32,\n",
       "    Muon_softMva: var * float32,\n",
       "    Muon_tkRelIso: var * float32,\n",
       "    Muon_tunepRelPt: var * float32,\n",
       "    Muon_mvaLowPt: var * float32,\n",
       "    Muon_mvaTTH: var * float32,\n",
       "    Muon_charge: var * int32,\n",
       "    Muon_jetIdx: var * int32,\n",
       "    Muon_nStations: var * int32,\n",
       "    Muon_nTrackerLayers: var * int32,\n",
       "    Muon_pdgId: var * int32,\n",
       "    Muon_tightCharge: var * int32,\n",
       "    Muon_fsrPhotonIdx: var * int32,\n",
       "    Muon_highPtId: var * uint8,\n",
       "    Muon_highPurity: var * bool,\n",
       "    Muon_inTimeMuon: var * bool,\n",
       "    Muon_isGlobal: var * bool,\n",
       "    Muon_isPFcand: var * bool,\n",
       "    Muon_isStandalone: var * bool,\n",
       "    Muon_isTracker: var * bool,\n",
       "    Muon_jetNDauCharged: var * uint8,\n",
       "    Muon_looseId: var * bool,\n",
       "    Muon_mediumId: var * bool,\n",
       "    Muon_mediumPromptId: var * bool,\n",
       "    Muon_miniIsoId: var * uint8,\n",
       "    Muon_multiIsoId: var * uint8,\n",
       "    Muon_mvaId: var * uint8,\n",
       "    Muon_mvaLowPtId: var * uint8,\n",
       "    Muon_pfIsoId: var * uint8,\n",
       "    Muon_puppiIsoId: var * uint8,\n",
       "    Muon_softId: var * bool,\n",
       "    Muon_softMvaId: var * bool,\n",
       "    Muon_tightId: var * bool,\n",
       "    Muon_tkIsoId: var * uint8,\n",
       "    Muon_triggerIdLoose: var * bool,\n",
       "    Electron_cleanmask: var * uint8,\n",
       "    Muon_cleanmask: var * uint8\n",
       "}</pre>"
      ],
      "text/plain": [
       "<Array [{run: 283830, ...}, {...}, ..., {...}] type='56141 * {run: uint32, ...'>"
      ]
     },
     "execution_count": 6,
     "metadata": {},
     "output_type": "execute_result"
    }
   ],
   "source": [
    "df"
   ]
  },
  {
   "cell_type": "markdown",
   "id": "d9b16ff8-65ce-4d4c-ad91-12d55f2365de",
   "metadata": {},
   "source": [
    "Selections:\n",
    "\n",
    "* $p_{t} >$ 25 GeV\n",
    "* $|\\eta|$ < 2.4\n",
    "* $I_{PF} / p_{t}$ < 0.15\n",
    "* $m_{T}$ > 40 GeV, where $m_{T} = \\sqrt{2p_{t}^{l}p_{t}^{\\nu}[1-cos(\\Delta\\phi)]}$\n",
    "* reject if another muon or electron with $p_{t} > 10 GeV$"
   ]
  },
  {
   "cell_type": "markdown",
   "id": "86d3e362-8f34-44ad-adc4-63efc7733149",
   "metadata": {},
   "source": [
    "Let's reject events with even one electron and more than one muon"
   ]
  },
  {
   "cell_type": "code",
   "execution_count": 7,
   "id": "cae6b7d8-e598-4954-97e4-887bd2271fed",
   "metadata": {},
   "outputs": [
    {
     "data": {
      "text/plain": [
       "36840"
      ]
     },
     "execution_count": 7,
     "metadata": {},
     "output_type": "execute_result"
    }
   ],
   "source": [
    "df = df[(df['nMuon'] == 1) & (df['nElectron'] == 0)]\n",
    "len(df)"
   ]
  },
  {
   "cell_type": "code",
   "execution_count": 8,
   "id": "1a99efc1-da53-4f51-8ad8-5b86c0e4ae4e",
   "metadata": {},
   "outputs": [
    {
     "data": {
      "text/plain": [
       "Text(0.5, 0, 'muon eta')"
      ]
     },
     "execution_count": 8,
     "metadata": {},
     "output_type": "execute_result"
    },
    {
     "data": {
      "image/png": "[encoded data removed]",
      "text/plain": [
       "<Figure size 2000x500 with 2 Axes>"
      ]
     },
     "metadata": {},
     "output_type": "display_data"
    }
   ],
   "source": [
    "fig, axes = plt.subplots(1, 2, figsize=(20,5))\n",
    "\n",
    "axes[0].hist(ak.flatten(df['Muon_pt']), bins=20, range=(0,2000))\n",
    "axes[0].set_xlabel('muon pt')\n",
    "axes[0].set_yscale('log')\n",
    "\n",
    "axes[1].hist(ak.flatten(df['Muon_eta']), bins=100, range=(-3,3))\n",
    "axes[1].set_xlabel('muon eta')"
   ]
  },
  {
   "cell_type": "code",
   "execution_count": 9,
   "id": "a76a3e81-22a1-43f8-9501-a8ba5bc85d78",
   "metadata": {},
   "outputs": [],
   "source": [
    "df['Muon_iso'] = df['Muon_pfRelIso04_all'] / df['Muon_pt']"
   ]
  },
  {
   "cell_type": "code",
   "execution_count": 10,
   "id": "cabfe0ed-d0f1-48e4-ba66-2e06cc6ff767",
   "metadata": {},
   "outputs": [
    {
     "data": {
      "image/png": "[encoded data removed]",
      "text/plain": [
       "<Figure size 2000x500 with 2 Axes>"
      ]
     },
     "metadata": {},
     "output_type": "display_data"
    }
   ],
   "source": [
    "fig, axes = plt.subplots(1, 2, figsize=(20,5))\n",
    "\n",
    "axes[0].hist(ak.flatten(df['Muon_pfRelIso04_all']), bins=20, range=(0,150))\n",
    "axes[0].set_xlabel('muon I_PF')\n",
    "axes[0].set_yscale('log')\n",
    "\n",
    "axes[1].hist(ak.flatten(df['Muon_iso']), bins=100, range=(0,40))\n",
    "axes[1].set_xlabel('muon pt')\n",
    "axes[1].set_yscale('log')"
   ]
  },
  {
   "cell_type": "code",
   "execution_count": 11,
   "id": "830bd464-cf9f-4dab-945f-a647ebe8902e",
   "metadata": {},
   "outputs": [],
   "source": [
    "pt_cut = ak.flatten(df['Muon_pt'] > 25)\n",
    "eta_cut = ak.flatten(np.abs(df['Muon_eta']) < 2.4)"
   ]
  },
  {
   "cell_type": "code",
   "execution_count": 12,
   "id": "dbddd2d9-e41f-4e07-ac18-c5c07fc578df",
   "metadata": {},
   "outputs": [
    {
     "data": {
      "text/plain": [
       "27284"
      ]
     },
     "execution_count": 12,
     "metadata": {},
     "output_type": "execute_result"
    }
   ],
   "source": [
    "df = df[pt_cut & eta_cut]\n",
    "len(df)"
   ]
  },
  {
   "cell_type": "code",
   "execution_count": 13,
   "id": "cc5ec290-bee9-495d-9a6c-33e8123b89c1",
   "metadata": {},
   "outputs": [
    {
     "data": {
      "text/plain": [
       "Text(0.5, 0, 'muon eta')"
      ]
     },
     "execution_count": 13,
     "metadata": {},
     "output_type": "execute_result"
    },
    {
     "data": {
      "image/png": "[encoded data removed]",
      "text/plain": [
       "<Figure size 2000x500 with 2 Axes>"
      ]
     },
     "metadata": {},
     "output_type": "display_data"
    }
   ],
   "source": [
    "fig, axes = plt.subplots(1, 2, figsize=(20,5))\n",
    "\n",
    "axes[0].hist(ak.flatten(df['Muon_pt']), bins=20, range=(0,2000))\n",
    "axes[0].set_xlabel('muon pt')\n",
    "axes[0].set_yscale('log')\n",
    "\n",
    "axes[1].hist(ak.flatten(df['Muon_eta']), bins=100, range=(-3,3))\n",
    "axes[1].set_xlabel('muon eta')"
   ]
  },
  {
   "cell_type": "code",
   "execution_count": 14,
   "id": "8c152506-604c-40f7-8516-ddf229113c4c",
   "metadata": {},
   "outputs": [],
   "source": [
    "df['M_t'] = np.sqrt(\n",
    "    2*df['Muon_pt']*df['MET_pt']*(1-np.cos(df['Muon_phi']-df['MET_phi']))\n",
    ")"
   ]
  },
  {
   "cell_type": "code",
   "execution_count": 15,
   "id": "52d0cbb0-20a8-48a1-8320-33fb33efb07c",
   "metadata": {},
   "outputs": [
    {
     "data": {
      "text/plain": [
       "Text(0.5, 0, 'M_t')"
      ]
     },
     "execution_count": 15,
     "metadata": {},
     "output_type": "execute_result"
    },
    {
     "data": {
      "image/png": "[encoded data removed]",
      "text/plain": [
       "<Figure size 640x480 with 1 Axes>"
      ]
     },
     "metadata": {},
     "output_type": "display_data"
    }
   ],
   "source": [
    "plt.hist(ak.flatten(df['M_t']), bins=50, range=(0,200))\n",
    "plt.xlabel('M_t')"
   ]
  },
  {
   "cell_type": "code",
   "execution_count": 16,
   "id": "4fabf1df-5840-4b8b-a944-715dc12482a2",
   "metadata": {},
   "outputs": [
    {
     "data": {
      "text/plain": [
       "27257"
      ]
     },
     "execution_count": 16,
     "metadata": {},
     "output_type": "execute_result"
    }
   ],
   "source": [
    "iso_cut = ak.flatten(df['Muon_iso'] < 0.15)\n",
    "\n",
    "df = df[iso_cut]\n",
    "len(df)"
   ]
  },
  {
   "cell_type": "code",
   "execution_count": 17,
   "id": "3a59fa99-e7b6-49ae-b653-003c9926b9d4",
   "metadata": {},
   "outputs": [],
   "source": [
    "mt_cut = ak.flatten(df['M_t'] > 40)\n",
    "df = df[mt_cut]"
   ]
  },
  {
   "cell_type": "code",
   "execution_count": 18,
   "id": "df120919-f0ef-477f-8cdd-eed78c905070",
   "metadata": {},
   "outputs": [
    {
     "data": {
      "text/plain": [
       "Text(0.5, 0, 'M_t')"
      ]
     },
     "execution_count": 18,
     "metadata": {},
     "output_type": "execute_result"
    },
    {
     "data": {
      "image/png": "[encoded data removed]",
      "text/plain": [
       "<Figure size 640x480 with 1 Axes>"
      ]
     },
     "metadata": {},
     "output_type": "display_data"
    }
   ],
   "source": [
    "plt.hist(ak.flatten(df['M_t']), bins=50, range=(0,200))\n",
    "plt.xlabel('M_t')"
   ]
  },
  {
   "cell_type": "code",
   "execution_count": 19,
   "id": "2086f083-aeaa-47bc-a953-7f6b145d93b6",
   "metadata": {},
   "outputs": [
    {
     "data": {
      "text/plain": [
       "19917"
      ]
     },
     "execution_count": 19,
     "metadata": {},
     "output_type": "execute_result"
    }
   ],
   "source": [
    "len(df)"
   ]
  },
  {
   "cell_type": "code",
   "execution_count": 36,
   "id": "e0d820c7-36f8-4ff3-9580-06c5af4f3202",
   "metadata": {},
   "outputs": [
    {
     "data": {
      "text/html": [
       "<div>\n",
       "<style scoped>\n",
       "    .dataframe tbody tr th:only-of-type {\n",
       "        vertical-align: middle;\n",
       "    }\n",
       "\n",
       "    .dataframe tbody tr th {\n",
       "        vertical-align: top;\n",
       "    }\n",
       "\n",
       "    .dataframe thead th {\n",
       "        text-align: right;\n",
       "    }\n",
       "</style>\n",
       "<table border=\"1\" class=\"dataframe\">\n",
       "  <thead>\n",
       "    <tr style=\"text-align: right;\">\n",
       "      <th></th>\n",
       "      <th>Run</th>\n",
       "      <th>Event</th>\n",
       "      <th>Lumi</th>\n",
       "      <th>pt</th>\n",
       "      <th>phi</th>\n",
       "      <th>eta</th>\n",
       "      <th>Q</th>\n",
       "      <th>MET</th>\n",
       "      <th>phiMET</th>\n",
       "      <th>Mt</th>\n",
       "    </tr>\n",
       "  </thead>\n",
       "  <tbody>\n",
       "    <tr>\n",
       "      <th>0</th>\n",
       "      <td>283830</td>\n",
       "      <td>28246124</td>\n",
       "      <td>15</td>\n",
       "      <td>26.081926</td>\n",
       "      <td>-2.238770</td>\n",
       "      <td>1.983643</td>\n",
       "      <td>1</td>\n",
       "      <td>41.130352</td>\n",
       "      <td>0.529907</td>\n",
       "      <td>64.370575</td>\n",
       "    </tr>\n",
       "    <tr>\n",
       "      <th>1</th>\n",
       "      <td>283830</td>\n",
       "      <td>28832584</td>\n",
       "      <td>15</td>\n",
       "      <td>25.179100</td>\n",
       "      <td>0.622559</td>\n",
       "      <td>0.976440</td>\n",
       "      <td>-1</td>\n",
       "      <td>17.666527</td>\n",
       "      <td>-2.270020</td>\n",
       "      <td>41.855324</td>\n",
       "    </tr>\n",
       "    <tr>\n",
       "      <th>2</th>\n",
       "      <td>283830</td>\n",
       "      <td>27953541</td>\n",
       "      <td>15</td>\n",
       "      <td>33.776405</td>\n",
       "      <td>1.079346</td>\n",
       "      <td>-1.939697</td>\n",
       "      <td>1</td>\n",
       "      <td>16.113462</td>\n",
       "      <td>-2.569336</td>\n",
       "      <td>45.166840</td>\n",
       "    </tr>\n",
       "    <tr>\n",
       "      <th>3</th>\n",
       "      <td>283830</td>\n",
       "      <td>28011942</td>\n",
       "      <td>15</td>\n",
       "      <td>40.445992</td>\n",
       "      <td>0.766479</td>\n",
       "      <td>-0.583130</td>\n",
       "      <td>1</td>\n",
       "      <td>39.285496</td>\n",
       "      <td>-2.698730</td>\n",
       "      <td>78.681656</td>\n",
       "    </tr>\n",
       "    <tr>\n",
       "      <th>4</th>\n",
       "      <td>283830</td>\n",
       "      <td>29338909</td>\n",
       "      <td>15</td>\n",
       "      <td>34.520691</td>\n",
       "      <td>0.243896</td>\n",
       "      <td>1.098633</td>\n",
       "      <td>-1</td>\n",
       "      <td>67.532845</td>\n",
       "      <td>-2.937988</td>\n",
       "      <td>96.547073</td>\n",
       "    </tr>\n",
       "    <tr>\n",
       "      <th>...</th>\n",
       "      <td>...</td>\n",
       "      <td>...</td>\n",
       "      <td>...</td>\n",
       "      <td>...</td>\n",
       "      <td>...</td>\n",
       "      <td>...</td>\n",
       "      <td>...</td>\n",
       "      <td>...</td>\n",
       "      <td>...</td>\n",
       "      <td>...</td>\n",
       "    </tr>\n",
       "    <tr>\n",
       "      <th>19912</th>\n",
       "      <td>283830</td>\n",
       "      <td>202492859</td>\n",
       "      <td>108</td>\n",
       "      <td>39.561298</td>\n",
       "      <td>1.139160</td>\n",
       "      <td>-2.054688</td>\n",
       "      <td>-1</td>\n",
       "      <td>35.823517</td>\n",
       "      <td>-2.480469</td>\n",
       "      <td>73.151611</td>\n",
       "    </tr>\n",
       "    <tr>\n",
       "      <th>19913</th>\n",
       "      <td>283830</td>\n",
       "      <td>203802769</td>\n",
       "      <td>108</td>\n",
       "      <td>27.348377</td>\n",
       "      <td>-2.846680</td>\n",
       "      <td>0.832397</td>\n",
       "      <td>1</td>\n",
       "      <td>71.625336</td>\n",
       "      <td>0.064072</td>\n",
       "      <td>87.928535</td>\n",
       "    </tr>\n",
       "    <tr>\n",
       "      <th>19914</th>\n",
       "      <td>283830</td>\n",
       "      <td>203099634</td>\n",
       "      <td>108</td>\n",
       "      <td>30.215282</td>\n",
       "      <td>0.242249</td>\n",
       "      <td>1.304688</td>\n",
       "      <td>-1</td>\n",
       "      <td>27.441610</td>\n",
       "      <td>2.566406</td>\n",
       "      <td>52.846512</td>\n",
       "    </tr>\n",
       "    <tr>\n",
       "      <th>19915</th>\n",
       "      <td>283830</td>\n",
       "      <td>204094187</td>\n",
       "      <td>108</td>\n",
       "      <td>39.339905</td>\n",
       "      <td>2.747070</td>\n",
       "      <td>-1.907959</td>\n",
       "      <td>1</td>\n",
       "      <td>24.248846</td>\n",
       "      <td>-0.303589</td>\n",
       "      <td>61.708237</td>\n",
       "    </tr>\n",
       "    <tr>\n",
       "      <th>19916</th>\n",
       "      <td>283830</td>\n",
       "      <td>202990430</td>\n",
       "      <td>108</td>\n",
       "      <td>35.899918</td>\n",
       "      <td>-2.451172</td>\n",
       "      <td>-1.412598</td>\n",
       "      <td>1</td>\n",
       "      <td>46.361668</td>\n",
       "      <td>0.696777</td>\n",
       "      <td>81.593216</td>\n",
       "    </tr>\n",
       "  </tbody>\n",
       "</table>\n",
       "<p>19917 rows × 10 columns</p>\n",
       "</div>"
      ],
      "text/plain": [
       "          Run      Event  Lumi         pt       phi       eta  Q        MET  \\\n",
       "0      283830   28246124    15  26.081926 -2.238770  1.983643  1  41.130352   \n",
       "1      283830   28832584    15  25.179100  0.622559  0.976440 -1  17.666527   \n",
       "2      283830   27953541    15  33.776405  1.079346 -1.939697  1  16.113462   \n",
       "3      283830   28011942    15  40.445992  0.766479 -0.583130  1  39.285496   \n",
       "4      283830   29338909    15  34.520691  0.243896  1.098633 -1  67.532845   \n",
       "...       ...        ...   ...        ...       ...       ... ..        ...   \n",
       "19912  283830  202492859   108  39.561298  1.139160 -2.054688 -1  35.823517   \n",
       "19913  283830  203802769   108  27.348377 -2.846680  0.832397  1  71.625336   \n",
       "19914  283830  203099634   108  30.215282  0.242249  1.304688 -1  27.441610   \n",
       "19915  283830  204094187   108  39.339905  2.747070 -1.907959  1  24.248846   \n",
       "19916  283830  202990430   108  35.899918 -2.451172 -1.412598  1  46.361668   \n",
       "\n",
       "         phiMET         Mt  \n",
       "0      0.529907  64.370575  \n",
       "1     -2.270020  41.855324  \n",
       "2     -2.569336  45.166840  \n",
       "3     -2.698730  78.681656  \n",
       "4     -2.937988  96.547073  \n",
       "...         ...        ...  \n",
       "19912 -2.480469  73.151611  \n",
       "19913  0.064072  87.928535  \n",
       "19914  2.566406  52.846512  \n",
       "19915 -0.303589  61.708237  \n",
       "19916  0.696777  81.593216  \n",
       "\n",
       "[19917 rows x 10 columns]"
      ]
     },
     "execution_count": 36,
     "metadata": {},
     "output_type": "execute_result"
    }
   ],
   "source": [
    "d = {\n",
    "    'Run': ak.flatten(df['run'], axis=0),\n",
    "    'Event': ak.flatten(df['event'], axis=0),\n",
    "    'Lumi': ak.flatten(df['luminosityBlock'], axis=0),\n",
    "    'pt': ak.flatten(df['Muon_pt'], axis=1),\n",
    "    'phi': ak.flatten(df['Muon_phi'], axis=1),\n",
    "    'eta': ak.flatten(df['Muon_eta'], axis=1),\n",
    "    'Q': ak.flatten(df['Muon_charge'], axis=1),\n",
    "    'MET': ak.flatten(df['MET_pt'], axis=0),\n",
    "    'phiMET': ak.flatten(df['MET_phi'], axis=0),\n",
    "    'Mt': ak.flatten(df['M_t'], axis=1)\n",
    "}\n",
    "\n",
    "pdf = pd.DataFrame(d)\n",
    "\n",
    "pdf"
   ]
  },
  {
   "cell_type": "code",
   "execution_count": 38,
   "id": "528cb65b-3453-44ea-9608-83a9dfc31399",
   "metadata": {},
   "outputs": [],
   "source": [
    "pdf.to_csv(\n",
    "    'SingleMuonRun2016H.csv',\n",
    "    index=False\n",
    ")"
   ]
  },
  {
   "cell_type": "code",
   "execution_count": null,
   "id": "190cbb50-e26c-4c1c-a404-bc5f036271c7",
   "metadata": {},
   "outputs": [],
   "source": []
  }
 ],
 "metadata": {
  "kernelspec": {
   "display_name": "Python 3 (ipykernel)",
   "language": "python",
   "name": "python3"
  },
  "language_info": {
   "codemirror_mode": {
    "name": "ipython",
    "version": 3
   },
   "file_extension": ".py",
   "mimetype": "text/x-python",
   "name": "python",
   "nbconvert_exporter": "python",
   "pygments_lexer": "ipython3",
   "version": "3.11.5"
  }
 },
 "nbformat": 4,
 "nbformat_minor": 5
}
